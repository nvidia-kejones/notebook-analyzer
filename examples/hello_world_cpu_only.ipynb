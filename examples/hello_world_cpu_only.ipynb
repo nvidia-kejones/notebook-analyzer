{
  "cells": [
    {
      "cell_type": "code",
      "execution_count": null,
      "metadata": {
        "vscode": {
          "languageId": "plaintext"
        }
      },
      "outputs": [],
      "source": [
        "# Hello World - CPU Only Example\n",
        "\n",
        "This is a simple notebook demonstrating basic Python operations that are optimized for CPU execution.\n",
        "No GPU acceleration is needed for these operations.\n"
      ]
    },
    {
      "cell_type": "code",
      "execution_count": null,
      "metadata": {},
      "outputs": [],
      "source": [
        "# Simple hello world\n",
        "print(\"Hello, World!\")\n",
        "print(\"This is a CPU-only notebook example\")\n"
      ]
    },
    {
      "cell_type": "code",
      "execution_count": null,
      "metadata": {},
      "outputs": [],
      "source": [
        "# Basic arithmetic operations\n",
        "a = 10\n",
        "b = 20\n",
        "result = a + b\n",
        "print(f\"The sum of {a} and {b} is {result}\")\n"
      ]
    },
    {
      "cell_type": "code",
      "execution_count": null,
      "metadata": {},
      "outputs": [],
      "source": [
        "# Simple data processing with built-in Python\n",
        "numbers = [1, 2, 3, 4, 5]\n",
        "squared = [x**2 for x in numbers]\n",
        "print(f\"Original numbers: {numbers}\")\n",
        "print(f\"Squared numbers: {squared}\")\n"
      ]
    },
    {
      "cell_type": "code",
      "execution_count": null,
      "metadata": {},
      "outputs": [],
      "source": [
        "# Basic string operations\n",
        "message = \"Hello from CPU!\"\n",
        "print(message.upper())\n",
        "print(message.lower())\n",
        "print(f\"Message length: {len(message)}\")\n"
      ]
    },
    {
      "cell_type": "code",
      "execution_count": null,
      "metadata": {},
      "outputs": [],
      "source": [
        "## Summary\n",
        "\n",
        "This notebook demonstrates basic Python operations that run efficiently on CPU:\n",
        "- Simple print statements\n",
        "- Basic arithmetic\n",
        "- List comprehensions\n",
        "- String operations\n",
        "\n",
        "No GPU acceleration is needed for these operations.\n"
      ]
    }
  ],
  "metadata": {
    "language_info": {
      "name": "python"
    }
  },
  "nbformat": 4,
  "nbformat_minor": 2
}
