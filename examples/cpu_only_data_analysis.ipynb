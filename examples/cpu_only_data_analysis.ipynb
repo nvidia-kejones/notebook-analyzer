{
  "cells": [
    {
      "cell_type": "markdown",
      "metadata": {},
      "source": [
        "# CPU-Only Data Analysis Example\n",
        "\n",
        "This notebook demonstrates a typical data analysis workflow that is optimized for CPU execution.\n",
        "It uses pandas, numpy, and matplotlib - all libraries that are designed to work efficiently on CPU."
      ]
    },
    {
      "cell_type": "code",
      "execution_count": null,
      "metadata": {},
      "outputs": [],
      "source": [
        "import pandas as pd\n",
        "import numpy as np\n",
        "import matplotlib.pyplot as plt\n",
        "import seaborn as sns\n",
        "from sklearn.linear_model import LinearRegression\n",
        "from sklearn.model_selection import train_test_split\n",
        "from sklearn.metrics import mean_squared_error, r2_score"
      ]
    },
    {
      "cell_type": "code",
      "execution_count": null,
      "metadata": {},
      "outputs": [],
      "source": [
        "# Generate sample data for demonstration\n",
        "np.random.seed(42)\n",
        "n_samples = 1000\n",
        "\n",
        "# Create synthetic dataset\n",
        "data = {\n",
        "    'feature1': np.random.normal(0, 1, n_samples),\n",
        "    'feature2': np.random.normal(5, 2, n_samples),\n",
        "    'feature3': np.random.exponential(2, n_samples)\n",
        "}\n",
        "\n",
        "# Create target variable with some relationship to features\n",
        "data['target'] = (data['feature1'] * 2 + \n",
        "                 data['feature2'] * 0.5 + \n",
        "                 data['feature3'] * 0.1 + \n",
        "                 np.random.normal(0, 0.5, n_samples))\n",
        "\n",
        "df = pd.DataFrame(data)\n",
        "print(f\"Dataset shape: {df.shape}\")\n",
        "print(\"\\nFirst few rows:\")\n",
        "df.head()"
      ]
    },
    {
      "cell_type": "code",
      "execution_count": null,
      "metadata": {},
      "outputs": [],
      "source": [
        "# Basic statistical analysis\n",
        "print(\"Dataset Statistics:\")\n",
        "print(df.describe())\n",
        "\n",
        "print(\"\\nCorrelation Matrix:\")\n",
        "correlation_matrix = df.corr()\n",
        "print(correlation_matrix)"
      ]
    },
    {
      "cell_type": "code",
      "execution_count": null,
      "metadata": {},
      "outputs": [],
      "source": [
        "# Data visualization\n",
        "fig, axes = plt.subplots(2, 2, figsize=(12, 10))\n",
        "\n",
        "# Distribution plots\n",
        "df['feature1'].hist(bins=30, ax=axes[0,0], title='Feature 1 Distribution')\n",
        "df['feature2'].hist(bins=30, ax=axes[0,1], title='Feature 2 Distribution')\n",
        "df['feature3'].hist(bins=30, ax=axes[1,0], title='Feature 3 Distribution')\n",
        "df['target'].hist(bins=30, ax=axes[1,1], title='Target Distribution')\n",
        "\n",
        "plt.tight_layout()\n",
        "plt.show()"
      ]
    },
    {
      "cell_type": "code",
      "execution_count": null,
      "metadata": {},
      "outputs": [],
      "source": [
        "# Correlation heatmap\n",
        "plt.figure(figsize=(8, 6))\n",
        "sns.heatmap(correlation_matrix, annot=True, cmap='coolwarm', center=0)\n",
        "plt.title('Feature Correlation Heatmap')\n",
        "plt.show()"
      ]
    },
    {
      "cell_type": "code",
      "execution_count": null,
      "metadata": {},
      "outputs": [],
      "source": [
        "# Simple machine learning with scikit-learn (CPU-optimized)\n",
        "X = df[['feature1', 'feature2', 'feature3']]\n",
        "y = df['target']\n",
        "\n",
        "# Split the data\n",
        "X_train, X_test, y_train, y_test = train_test_split(X, y, test_size=0.2, random_state=42)\n",
        "\n",
        "# Train a simple linear regression model\n",
        "model = LinearRegression()\n",
        "model.fit(X_train, y_train)\n",
        "\n",
        "# Make predictions\n",
        "y_pred = model.predict(X_test)\n",
        "\n",
        "# Evaluate the model\n",
        "mse = mean_squared_error(y_test, y_pred)\n",
        "r2 = r2_score(y_test, y_pred)\n",
        "\n",
        "print(f\"Model Performance:\")\n",
        "print(f\"Mean Squared Error: {mse:.4f}\")\n",
        "print(f\"R² Score: {r2:.4f}\")\n",
        "print(f\"\\nModel Coefficients: {model.coef_}\")\n",
        "print(f\"Model Intercept: {model.intercept_:.4f}\")"
      ]
    },
    {
      "cell_type": "code",
      "execution_count": null,
      "metadata": {},
      "outputs": [],
      "source": [
        "# Prediction vs actual plot\n",
        "plt.figure(figsize=(8, 6))\n",
        "plt.scatter(y_test, y_pred, alpha=0.6)\n",
        "plt.plot([y_test.min(), y_test.max()], [y_test.min(), y_test.max()], 'r--', lw=2)\n",
        "plt.xlabel('Actual Values')\n",
        "plt.ylabel('Predicted Values')\n",
        "plt.title('Actual vs Predicted Values')\n",
        "plt.show()"
      ]
    },
    {
      "cell_type": "markdown",
      "metadata": {},
      "source": [
        "## Summary\n",
        "\n",
        "This notebook demonstrates a typical CPU-optimized data analysis workflow:\n",
        "\n",
        "1. **Data Loading & Preprocessing**: Using pandas for efficient data manipulation\n",
        "2. **Statistical Analysis**: Computing descriptive statistics and correlations\n",
        "3. **Data Visualization**: Creating plots with matplotlib and seaborn\n",
        "4. **Machine Learning**: Training a simple model with scikit-learn\n",
        "\n",
        "All these operations are designed to run efficiently on CPU and do not require GPU acceleration.\n",
        "The dataset size (1,000 samples) and model complexity (linear regression) are well-suited for CPU execution."
      ]
    }
  ],
  "metadata": {
    "kernelspec": {
      "display_name": "Python 3",
      "language": "python",
      "name": "python3"
    },
    "language_info": {
      "codemirror_mode": {
        "name": "ipython",
        "version": 3
      },
      "file_extension": ".py",
      "mimetype": "text/x-python",
      "name": "python",
      "nbconvert_exporter": "python",
      "pygments_lexer": "ipython3",
      "version": "3.8.0"
    }
  },
  "nbformat": 4,
  "nbformat_minor": 4
}
